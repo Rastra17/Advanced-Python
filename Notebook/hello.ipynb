{
 "cells": [
  {
   "cell_type": "code",
   "execution_count": null,
   "source": [
    "print(\"Hello World!\")"
   ],
   "outputs": [],
   "metadata": {}
  }
 ],
 "metadata": {
  "kernelspec": {
   "name": "python3",
   "display_name": "Python 3.9.6 64-bit ('venv': venv)"
  },
  "language_info": {
   "name": "python",
   "version": "3.9.6"
  },
  "interpreter": {
   "hash": "096d5cd268af07fbb601f9cdcf5738908a92e847112d5748a2f7b7ec47b20fdb"
  }
 },
 "nbformat": 4,
 "nbformat_minor": 5
}